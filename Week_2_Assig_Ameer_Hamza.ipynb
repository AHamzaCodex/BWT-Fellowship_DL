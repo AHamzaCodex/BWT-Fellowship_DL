{
  "nbformat": 4,
  "nbformat_minor": 0,
  "metadata": {
    "colab": {
      "provenance": []
    },
    "kernelspec": {
      "name": "python3",
      "display_name": "Python 3"
    },
    "language_info": {
      "name": "python"
    }
  },
  "cells": [
    {
      "cell_type": "code",
      "execution_count": null,
      "metadata": {
        "id": "W8hZb9B7TNbm"
      },
      "outputs": [],
      "source": []
    },
    {
      "cell_type": "markdown",
      "source": [
        "BWT - Assignment - Week 2 - DL Track\n"
      ],
      "metadata": {
        "id": "tOZP0Iy3Tim9"
      }
    },
    {
      "cell_type": "code",
      "source": [
        "#Q1\n",
        "def validate_email():\n",
        "    #taking input fields\n",
        "    name = input(\"Enter your name: \")\n",
        "    age = int(input(\"Enter your age: \"))\n",
        "    email = input(\"Enter your email: \")\n",
        "    favorite_number = int(input(\"Enter your favorite number: \"))\n",
        "    #storing in dict object with keys being same to values\n",
        "    user_details = {\n",
        "        \"name\": name,\n",
        "        \"age\": age,\n",
        "        \"email\": email,\n",
        "        \"favorite_number\": favorite_number\n",
        "    }\n",
        "    #validation check\n",
        "    if \"@\" in email and \".\" in email:\n",
        "        print(f\"Hello {name}, you are {age} years old, your email is {email}, and your favorite number is {favorite_number}.\")\n",
        "    else:\n",
        "        print(\"Invalid email format.\")\n",
        "\n",
        "validate_email()\n"
      ],
      "metadata": {
        "colab": {
          "base_uri": "https://localhost:8080/"
        },
        "id": "XLqMySW2TyGK",
        "outputId": "3cd79c59-f624-45f5-a379-63cd1a3b8851"
      },
      "execution_count": 4,
      "outputs": [
        {
          "output_type": "stream",
          "name": "stdout",
          "text": [
            "Enter your name: aha\n",
            "Enter your age: 11\n",
            "Enter your email: a@h.com\n",
            "Enter your favorite number: 12\n",
            "Hello aha, you are 11 years old, your email is a@h.com, and your favorite number is 12.\n"
          ]
        }
      ]
    },
    {
      "cell_type": "code",
      "source": [
        "#Q2\n",
        "def Is_even(number):\n",
        "    if number % 2 == 0:\n",
        "        return True\n",
        "    else:\n",
        "        return False\n",
        "\n",
        "number = int(input(\"Enter an integer: \"))\n",
        "if Is_even(number):\n",
        "    print(f\"{number} is even\")\n",
        "else:\n",
        "    print(f\"{number} is odd\")\n"
      ],
      "metadata": {
        "colab": {
          "base_uri": "https://localhost:8080/"
        },
        "id": "TKaejhnqVJbY",
        "outputId": "44a025ab-e15f-448c-c407-471841aa4eaf"
      },
      "execution_count": 6,
      "outputs": [
        {
          "output_type": "stream",
          "name": "stdout",
          "text": [
            "Enter an integer: 1\n",
            "1 is odd\n"
          ]
        }
      ]
    },
    {
      "cell_type": "code",
      "source": [
        "#Q3\n",
        "#Formula for conversion taken form Googlee\n",
        "def convert_temperature(temp, scale):\n",
        "    if scale == \"F\":\n",
        "        converted_temp = (temp - 32) * 5/9\n",
        "        result = f\"{temp}°F is equal to {converted_temp:.2f}°C\"\n",
        "        return result\n",
        "    elif scale == \"C\":\n",
        "        converted_temp = (temp * 9/5) + 32\n",
        "        result = f\"{temp}°c is equal to {converted_temp:.2f}°F\"\n",
        "        return  result\n",
        "    else:\n",
        "        print(\"Invalid scale\")\n",
        "        return None\n",
        "    return converted_temp\n",
        "\n",
        "temp = float(input(\"Enter the temperature: \"))\n",
        "scale = input(\"Enter the scale (C/F): \")\n",
        "convert_temperature(temp, scale)\n"
      ],
      "metadata": {
        "colab": {
          "base_uri": "https://localhost:8080/",
          "height": 72
        },
        "id": "yxAmk-wkVhIx",
        "outputId": "8df3cb81-bd45-4f37-aaaf-68b2b52f59bd"
      },
      "execution_count": 10,
      "outputs": [
        {
          "name": "stdout",
          "output_type": "stream",
          "text": [
            "Enter the temperature: 22\n",
            "Enter the scale (C/F): C\n"
          ]
        },
        {
          "output_type": "execute_result",
          "data": {
            "text/plain": [
              "'22.0°c is equal to 71.60°F'"
            ],
            "application/vnd.google.colaboratory.intrinsic+json": {
              "type": "string"
            }
          },
          "metadata": {},
          "execution_count": 10
        }
      ]
    },
    {
      "cell_type": "code",
      "source": [
        "#Q4\n",
        "def find_max_min(numbers_list):\n",
        "    max_num = max(numbers_list)\n",
        "    min_num = min(numbers_list)\n",
        "    return max_num, min_num\n",
        "\n",
        "numbers = []\n",
        "for i in range(5):\n",
        "    num = float(input(f\"Enter number {i+1}: \"))\n",
        "    numbers.append(num)\n",
        "\n",
        "max_num, mini_num = find_max_min(numbers)\n",
        "print(f\"The max number is {max_num} and the mini number is {mini_num}.\")\n"
      ],
      "metadata": {
        "colab": {
          "base_uri": "https://localhost:8080/"
        },
        "id": "h38pZxuoXVsI",
        "outputId": "2daa7cb0-f50d-4952-f1c1-ed0300056111"
      },
      "execution_count": 11,
      "outputs": [
        {
          "output_type": "stream",
          "name": "stdout",
          "text": [
            "Enter number 1: 3\n",
            "Enter number 2: 21\n",
            "Enter number 3: 6\n",
            "Enter number 4: -41\n",
            "Enter number 5: 22\n",
            "The maximum number is 22.0 and the minimum number is -41.0.\n"
          ]
        }
      ]
    },
    {
      "cell_type": "code",
      "source": [
        "#Q5\n",
        "students = []\n",
        "students_dict = {}\n",
        "#Taking input via loop\n",
        "for i in range(3):\n",
        "    name = input(f\"Enter name of student {i+1}: \")\n",
        "    age = int(input(f\"Enter age of student {i+1}: \"))\n",
        "    grade = input(f\"Enter grade of student {i+1}: \")\n",
        "    students.append((name, age, grade))\n",
        "\n",
        "\n",
        "# Enter student detail in dict with name being key for each entry\n",
        "for student in students:\n",
        "    #destructuring the list to get individual items\n",
        "    name, age, grade = student\n",
        "    students_dict[name] = (age, grade)\n",
        "\n",
        "print(students_dict)\n"
      ],
      "metadata": {
        "colab": {
          "base_uri": "https://localhost:8080/"
        },
        "id": "3JIbAgyHXzyr",
        "outputId": "76fd62d4-78f6-4f6e-d0a1-0e741f3db84d"
      },
      "execution_count": 13,
      "outputs": [
        {
          "output_type": "stream",
          "name": "stdout",
          "text": [
            "Enter name of student 1: name1\n",
            "Enter age of student 1: 12\n",
            "Enter grade of student 1: F\n",
            "Enter name of student 2: name2\n",
            "Enter age of student 2: 13\n",
            "Enter grade of student 2: A\n",
            "Enter name of student 3: name3\n",
            "Enter age of student 3: -1\n",
            "Enter grade of student 3: B\n",
            "{'name1': (12, 'F'), 'name2': (13, 'A'), 'name3': (-1, 'B')}\n"
          ]
        }
      ]
    },
    {
      "cell_type": "code",
      "source": [
        "#Q6\n",
        "inventory_dict = {\n",
        "    \"apple\": 10,\n",
        "    \"shoes\": 5,\n",
        "    \"bag\": 8,\n",
        "    \"belt\": 3,\n",
        "    \"video game\": 7\n",
        "}\n",
        "\n",
        "def update_inventory(inventory_dict, item_name, quantity):\n",
        "    if item_name in inventory_dict:\n",
        "        inventory_dict[item_name] += quantity\n",
        "        if inventory_dict[item_name] < 0:\n",
        "            inventory_dict[item_name] = 0\n",
        "    else:\n",
        "        inventory_dict[item_name] = max(0, quantity)\n",
        "    return inventory_dict\n",
        "\n",
        "for i in range(3):\n",
        "    item_name = input(\"Enter the item to update: \")\n",
        "    quantity = int(input(\"Enter the quantity to add/remove: \"))\n",
        "    inventory = update_inventory(inventory_dict, item_name, quantity)\n",
        "\n",
        "print(inventory)\n"
      ],
      "metadata": {
        "colab": {
          "base_uri": "https://localhost:8080/"
        },
        "id": "8sjbr83dZAKD",
        "outputId": "37c9639f-1262-469d-d240-5c50338b93e7"
      },
      "execution_count": 15,
      "outputs": [
        {
          "output_type": "stream",
          "name": "stdout",
          "text": [
            "Enter the item to update: book\n",
            "Enter the quantity to add/remove: 2\n",
            "Enter the item to update: bag\n",
            "Enter the quantity to add/remove: -2\n",
            "Enter the item to update: apple\n",
            "Enter the quantity to add/remove: -11\n",
            "{'apple': 0, 'shoes': 5, 'bag': 6, 'belt': 3, 'video game': 7, 'book': 2}\n"
          ]
        }
      ]
    }
  ]
}